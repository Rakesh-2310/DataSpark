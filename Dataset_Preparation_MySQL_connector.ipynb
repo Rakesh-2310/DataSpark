{
 "cells": [
  {
   "cell_type": "code",
   "execution_count": 2,
   "id": "9a95ea79-c081-4016-8bba-b0a4239a906f",
   "metadata": {},
   "outputs": [],
   "source": [
    "import pandas as pd\n",
    "import re\n",
    "from datetime import datetime"
   ]
  },
  {
   "cell_type": "code",
   "execution_count": 3,
   "id": "c6a23406-fd86-459c-97ee-a225f2a7d742",
   "metadata": {},
   "outputs": [],
   "source": [
    "# Function to calculate age\n",
    "def calculate_age(birthdate):\n",
    "    if pd.isna(birthdate):\n",
    "        return None\n",
    "    today = datetime.today()\n",
    "    return today.year - birthdate.year - ((today.month, today.day) < (birthdate.month, birthdate.day))\n",
    "\n",
    "# Function to extract numeric value from string\n",
    "def extract_numeric(value):\n",
    "    numeric_string = re.sub(r'[^\\d.]', '', value)\n",
    "    return float(numeric_string) if numeric_string else 0.0"
   ]
  },
  {
   "cell_type": "code",
   "execution_count": 4,
   "id": "d9b13679-cd5b-4f7b-be9b-aae8f85aecbf",
   "metadata": {},
   "outputs": [],
   "source": [
    "# Dictionary to store the DataFrames\n",
    "dataframes = {}\n",
    "\n",
    "# List of filenames\n",
    "files = ['Customers', 'Exchange_Rates', 'Products', 'Sales', 'Stores']\n",
    "\n",
    "# Try different encodings for each file\n",
    "for file in files:\n",
    "    for encoding in ['utf-8', 'latin1', 'iso-8859-1']:\n",
    "        try:\n",
    "            df = pd.read_csv(f\"Dataset-Copy1/{file}.csv\", encoding=encoding)\n",
    "            dataframes[file] = df\n",
    "            break\n",
    "        except UnicodeDecodeError:\n",
    "            continue\n",
    "    else:\n",
    "        print(f\"Failed to load {file} with utf-8, latin1, or iso-8859-1 encodings\")"
   ]
  },
  {
   "cell_type": "code",
   "execution_count": 5,
   "id": "a7332b35-bf72-4ffd-a8b0-9aafa45a0996",
   "metadata": {},
   "outputs": [],
   "source": [
    "# Load customer data from CSV and preprocess\n",
    "df_customer = dataframes['Customers']\n",
    "df_customer.columns = df_customer.columns.str.lower().str.replace(\" \", \"_\")\n",
    "df_customer['birthday'] = pd.to_datetime(df_customer['birthday'], errors='coerce')\n",
    "df_customer['age'] = df_customer['birthday'].apply(calculate_age)\n",
    "df_customer['state_code'] = df_customer['state_code'].fillna(\"NA\")"
   ]
  },
  {
   "cell_type": "code",
   "execution_count": 6,
   "id": "0a498003-78a8-4f3f-b1dc-9e8931b655b8",
   "metadata": {},
   "outputs": [],
   "source": [
    "# Load and preprocess the Products data\n",
    "df_product = dataframes['Products']\n",
    "df_product.columns = df_product.columns.str.lower().str.replace(\" \", \"_\")\n",
    "df_product['cost_usd'] = df_product['unit_cost_usd'].apply(extract_numeric)\n",
    "df_product['price_usd'] = df_product['unit_price_usd'].apply(extract_numeric)"
   ]
  },
  {
   "cell_type": "code",
   "execution_count": 7,
   "id": "5db064df-2119-4acc-8d6c-6ff05e4b21a0",
   "metadata": {},
   "outputs": [],
   "source": [
    "# Clean and process the Sales DataFrame\n",
    "df_sales = dataframes['Sales']\n",
    "df_sales.columns = df_sales.columns.str.lower().str.replace(\" \", \"_\")\n",
    "df_sales['order_date'] = pd.to_datetime(df_sales['order_date'], errors='coerce')\n",
    "df_sales['delivery_date'] = pd.to_datetime(df_sales['delivery_date'], errors='coerce')\n",
    "\n",
    "# Filter out rows where either 'order_date' or 'delivery_date' is missing\n",
    "filtered_df = df_sales.dropna(subset=['order_date', 'delivery_date']).copy()\n",
    "\n",
    "# Calculate the difference in days\n",
    "filtered_df['date_difference'] = (filtered_df['delivery_date'] - filtered_df['order_date']).dt.days\n",
    "\n",
    "# Compute the average difference\n",
    "average_difference = filtered_df['date_difference'].mean()\n",
    "\n",
    "# Fill missing 'delivery_date' values with 'order_date' + average difference\n",
    "df_sales['delivery_date'] = df_sales['delivery_date'].fillna(df_sales['order_date'] + pd.Timedelta(days=average_difference))\n",
    "df_sales['shipping_days'] = (df_sales['delivery_date'] - df_sales['order_date']).dt.days"
   ]
  },
  {
   "cell_type": "code",
   "execution_count": 8,
   "id": "9b77fcfc-3dba-4f52-b081-2925a2f07ada",
   "metadata": {},
   "outputs": [],
   "source": [
    "# Clean and process the Stores DataFrame\n",
    "df_stores = dataframes['Stores']\n",
    "df_stores.columns = df_stores.columns.str.lower().str.replace(\" \", \"_\")\n",
    "df_stores['open_date'] = pd.to_datetime(df_stores['open_date'], errors='coerce')\n",
    "df_stores['square_meters'] = df_stores['square_meters'].fillna(0.0)"
   ]
  },
  {
   "cell_type": "code",
   "execution_count": 9,
   "id": "25cb73ea-6947-40ac-a51f-de3416d2b640",
   "metadata": {},
   "outputs": [],
   "source": [
    "# Clean and process the Exchange Rates DataFrame\n",
    "df_exchange_rates = dataframes['Exchange_Rates']\n",
    "df_exchange_rates.columns = df_exchange_rates.columns.str.lower().str.replace(\" \", \"_\")\n",
    "df_exchange_rates['date'] = pd.to_datetime(df_exchange_rates['date'], errors='coerce')\n",
    "df_exchange_rates['currency'] = df_exchange_rates['currency'].str.upper()"
   ]
  },
  {
   "cell_type": "code",
   "execution_count": 10,
   "id": "d6433f61-fb0e-40b2-88ba-b861b5c2a706",
   "metadata": {},
   "outputs": [],
   "source": [
    "# Merge dataframes\n",
    "merged_df = df_sales.merge(df_customer, on='customerkey', how='left')\n",
    "merged_df = merged_df.merge(df_stores, on='storekey', how='left', suffixes=('', '_store'))\n",
    "merged_df = merged_df.merge(df_product, on='productkey', how='left', suffixes=('', '_product'))\n",
    "merged_df = merged_df.merge(df_exchange_rates, left_on=['order_date', 'currency_code'], right_on=['date', 'currency'], how='left')\n",
    "merged_df = merged_df.apply(lambda x: x.str.upper() if x.dtype == \"object\" else x)"
   ]
  },
  {
   "cell_type": "code",
   "execution_count": null,
   "id": "5fb5938d-7f6f-4ffc-9611-3a6722a974be",
   "metadata": {},
   "outputs": [],
   "source": [
    "# Inspect the final dataframe\n",
    "print(merged_df.describe)"
   ]
  },
  {
   "cell_type": "code",
   "execution_count": null,
   "id": "75a590bb-3218-4bda-8af0-2499fe42e62f",
   "metadata": {},
   "outputs": [],
   "source": [
    "merged_df.dtypes"
   ]
  },
  {
   "cell_type": "code",
   "execution_count": 11,
   "id": "c4ccbf49-ac5e-4b1f-9b73-1168010ef338",
   "metadata": {},
   "outputs": [],
   "source": [
    "import pymysql\n",
    "\n",
    "# Connection to MySQL\n",
    "myconnection = pymysql.connect(host='127.0.0.1', user='root', passwd='Krisrak@123')\n",
    "\n",
    "try:\n",
    "    # Create the database\n",
    "    with myconnection.cursor() as cursor:\n",
    "        cursor.execute(\"CREATE DATABASE IF NOT EXISTS Dataspark_Global_Electronics\")\n",
    "    \n",
    "    # Loop through each dataframe and create tables\n",
    "    for df, table_name in zip(\n",
    "        [df_customer, df_stores, df_product, df_exchange_rates, df_sales, merged_df],\n",
    "        ['Customers', 'Stores', 'Products', 'Exchange_Rates', 'Sales', 'Merged_df']\n",
    "    ):\n",
    "        # Convert columns to uppercase if they are of object type\n",
    "        df = df.apply(lambda x: x.str.upper() if x.dtype == \"object\" else x)\n",
    "        \n",
    "        # Get column details\n",
    "        a = \",\".join(f\"{i} {j}\" for i, j in zip(df.columns, df.dtypes))\n",
    "        a = a.replace(\"int64\", \"INT\").replace(\"object\", \"TEXT\").replace(\"float64\", \"FLOAT\").replace(\"datetime64[ns]\", \"DATETIME\")\n",
    "        \n",
    "        # Create table\n",
    "        with myconnection.cursor() as cursor:\n",
    "            cursor.execute(f\"CREATE TABLE IF NOT EXISTS Dataspark_Global_Electronics.{table_name} ({a})\")\n",
    "        \n",
    "        # Insert rows\n",
    "        sql = f\"INSERT INTO Dataspark_Global_Electronics.{table_name} VALUES \"\n",
    "        for j in range(len(df)):\n",
    "            with myconnection.cursor() as cursor:\n",
    "                cursor.execute(f\"{sql} {tuple(df.iloc[j])}\")\n",
    "            myconnection.commit()\n",
    "finally:\n",
    "    myconnection.close()"
   ]
  },
  {
   "cell_type": "code",
   "execution_count": 11,
   "id": "a3719a25-0194-4f2c-909a-8d6013646b4e",
   "metadata": {},
   "outputs": [],
   "source": [
    "file_names = {\n",
    "    'df_customer': 'customer_data.csv',\n",
    "    'df_stores': 'stores_data.csv',\n",
    "    'df_product': 'product_data.csv',\n",
    "    'df_exchange_rates': 'exchange_rates_data.csv',\n",
    "    'df_sales': 'sales_data.csv'\n",
    "}\n",
    "\n",
    "df_customer.to_csv(file_names['df_customer'], index=False)\n",
    "df_stores.to_csv(file_names['df_stores'], index=False)\n",
    "df_product.to_csv(file_names['df_product'], index=False)\n",
    "df_exchange_rates.to_csv(file_names['df_exchange_rates'], index=False)\n",
    "df_sales.to_csv(file_names['df_sales'], index=False)"
   ]
  },
  {
   "cell_type": "code",
   "execution_count": null,
   "id": "3ddf1f59-4d1b-4c51-9c7f-e66998c6ae41",
   "metadata": {},
   "outputs": [],
   "source": []
  }
 ],
 "metadata": {
  "kernelspec": {
   "display_name": "Python 3 (ipykernel)",
   "language": "python",
   "name": "python3"
  },
  "language_info": {
   "codemirror_mode": {
    "name": "ipython",
    "version": 3
   },
   "file_extension": ".py",
   "mimetype": "text/x-python",
   "name": "python",
   "nbconvert_exporter": "python",
   "pygments_lexer": "ipython3",
   "version": "3.11.7"
  }
 },
 "nbformat": 4,
 "nbformat_minor": 5
}
