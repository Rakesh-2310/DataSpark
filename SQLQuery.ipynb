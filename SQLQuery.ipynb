{
 "cells": [
  {
   "cell_type": "code",
   "execution_count": 41,
   "id": "e4b9abb9-7ceb-4fa4-93d2-c00befffe33d",
   "metadata": {},
   "outputs": [
    {
     "name": "stderr",
     "output_type": "stream",
     "text": [
      "C:\\Users\\rakes\\AppData\\Local\\Temp\\ipykernel_28648\\150217140.py:6: UserWarning: pandas only supports SQLAlchemy connectable (engine/connection) or database string URI or sqlite3 DBAPI2 connection. Other DBAPI2 objects are not tested. Please consider using SQLAlchemy.\n",
      "  df = pd.read_sql(query,myconnection)\n"
     ]
    },
    {
     "data": {
      "text/html": [
       "<div>\n",
       "<style scoped>\n",
       "    .dataframe tbody tr th:only-of-type {\n",
       "        vertical-align: middle;\n",
       "    }\n",
       "\n",
       "    .dataframe tbody tr th {\n",
       "        vertical-align: top;\n",
       "    }\n",
       "\n",
       "    .dataframe thead th {\n",
       "        text-align: right;\n",
       "    }\n",
       "</style>\n",
       "<table border=\"1\" class=\"dataframe\">\n",
       "  <thead>\n",
       "    <tr style=\"text-align: right;\">\n",
       "      <th></th>\n",
       "      <th>order_number</th>\n",
       "      <th>line_item</th>\n",
       "      <th>order_date</th>\n",
       "      <th>delivery_date</th>\n",
       "      <th>customerkey</th>\n",
       "      <th>storekey</th>\n",
       "      <th>productkey</th>\n",
       "      <th>quantity</th>\n",
       "      <th>currency_code</th>\n",
       "      <th>gender</th>\n",
       "      <th>name</th>\n",
       "      <th>city</th>\n",
       "      <th>state_code</th>\n",
       "      <th>state</th>\n",
       "      <th>zip_code</th>\n",
       "      <th>country</th>\n",
       "      <th>continent</th>\n",
       "      <th>birthday</th>\n",
       "      <th>age</th>\n",
       "      <th>country_store</th>\n",
       "      <th>state_store</th>\n",
       "      <th>square_meters</th>\n",
       "      <th>open_date</th>\n",
       "      <th>product_name</th>\n",
       "      <th>brand</th>\n",
       "      <th>color</th>\n",
       "      <th>unit_cost_usd</th>\n",
       "      <th>unit_price_usd</th>\n",
       "      <th>subcategorykey</th>\n",
       "      <th>subcategory</th>\n",
       "      <th>categorykey</th>\n",
       "      <th>category</th>\n",
       "      <th>date</th>\n",
       "      <th>currency</th>\n",
       "      <th>exchange</th>\n",
       "    </tr>\n",
       "  </thead>\n",
       "  <tbody>\n",
       "    <tr>\n",
       "      <th>0</th>\n",
       "      <td>366000</td>\n",
       "      <td>1</td>\n",
       "      <td>2016-01-01</td>\n",
       "      <td>2016-01-05</td>\n",
       "      <td>265598</td>\n",
       "      <td>10</td>\n",
       "      <td>1304</td>\n",
       "      <td>1</td>\n",
       "      <td>CAD</td>\n",
       "      <td>MALE</td>\n",
       "      <td>TYLER VAUGHT</td>\n",
       "      <td>LONDON</td>\n",
       "      <td>ON</td>\n",
       "      <td>ONTARIO</td>\n",
       "      <td>N5W 5K6</td>\n",
       "      <td>CANADA</td>\n",
       "      <td>NORTH AMERICA</td>\n",
       "      <td>1971-03-23</td>\n",
       "      <td>53</td>\n",
       "      <td>CANADA</td>\n",
       "      <td>NUNAVUT</td>\n",
       "      <td>1210.0</td>\n",
       "      <td>2015-04-04</td>\n",
       "      <td>CONTOSO LENS ADAPTER M450 WHITE</td>\n",
       "      <td>CONTOSO</td>\n",
       "      <td>WHITE</td>\n",
       "      <td>31.27</td>\n",
       "      <td>68.0</td>\n",
       "      <td>406</td>\n",
       "      <td>CAMERAS &amp; CAMCORDERS ACCESSORIES</td>\n",
       "      <td>4</td>\n",
       "      <td>CAMERAS AND CAMCORDERS</td>\n",
       "      <td>2016-01-01</td>\n",
       "      <td>CAD</td>\n",
       "      <td>1.3884</td>\n",
       "    </tr>\n",
       "  </tbody>\n",
       "</table>\n",
       "</div>"
      ],
      "text/plain": [
       "   order_number  line_item order_date delivery_date  customerkey  storekey  \\\n",
       "0        366000          1 2016-01-01    2016-01-05       265598        10   \n",
       "\n",
       "   productkey  quantity currency_code gender          name    city state_code  \\\n",
       "0        1304         1           CAD   MALE  TYLER VAUGHT  LONDON         ON   \n",
       "\n",
       "     state zip_code country      continent   birthday  age country_store  \\\n",
       "0  ONTARIO  N5W 5K6  CANADA  NORTH AMERICA 1971-03-23   53        CANADA   \n",
       "\n",
       "  state_store  square_meters  open_date                     product_name  \\\n",
       "0     NUNAVUT         1210.0 2015-04-04  CONTOSO LENS ADAPTER M450 WHITE   \n",
       "\n",
       "     brand  color  unit_cost_usd  unit_price_usd  subcategorykey  \\\n",
       "0  CONTOSO  WHITE          31.27            68.0             406   \n",
       "\n",
       "                        subcategory  categorykey                category  \\\n",
       "0  CAMERAS & CAMCORDERS ACCESSORIES            4  CAMERAS AND CAMCORDERS   \n",
       "\n",
       "        date currency  exchange  \n",
       "0 2016-01-01      CAD    1.3884  "
      ]
     },
     "execution_count": 41,
     "metadata": {},
     "output_type": "execute_result"
    }
   ],
   "source": [
    "import pymysql\n",
    "import pandas as pd\n",
    "myconnection = pymysql.connect(host='127.0.0.1',user='root',passwd='Krisrak@123')\n",
    "query = \"Select * from dataspark_global_electronics.merged_df;\"\n",
    "pd.set_option('display.max_columns', None)\n",
    "df = pd.read_sql(query,myconnection)\n",
    "df.head(1)"
   ]
  },
  {
   "cell_type": "markdown",
   "id": "6bc22a4a-d789-484d-a738-27d51b5d0b01",
   "metadata": {},
   "source": [
    "# SQL Queries based on Customer, Sales, Product, Store category"
   ]
  },
  {
   "cell_type": "code",
   "execution_count": 27,
   "id": "11c495e4-f2f4-4ef4-b3b2-832b6232fddf",
   "metadata": {},
   "outputs": [
    {
     "name": "stderr",
     "output_type": "stream",
     "text": [
      "C:\\Users\\rakes\\AppData\\Local\\Temp\\ipykernel_28648\\1933971581.py:6: UserWarning: pandas only supports SQLAlchemy connectable (engine/connection) or database string URI or sqlite3 DBAPI2 connection. Other DBAPI2 objects are not tested. Please consider using SQLAlchemy.\n",
      "  df = pd.read_sql(Gender_Distribution,myconnection)\n"
     ]
    },
    {
     "data": {
      "text/html": [
       "<div>\n",
       "<style scoped>\n",
       "    .dataframe tbody tr th:only-of-type {\n",
       "        vertical-align: middle;\n",
       "    }\n",
       "\n",
       "    .dataframe tbody tr th {\n",
       "        vertical-align: top;\n",
       "    }\n",
       "\n",
       "    .dataframe thead th {\n",
       "        text-align: right;\n",
       "    }\n",
       "</style>\n",
       "<table border=\"1\" class=\"dataframe\">\n",
       "  <thead>\n",
       "    <tr style=\"text-align: right;\">\n",
       "      <th></th>\n",
       "      <th>gender</th>\n",
       "      <th>distinct_count</th>\n",
       "    </tr>\n",
       "  </thead>\n",
       "  <tbody>\n",
       "    <tr>\n",
       "      <th>0</th>\n",
       "      <td>FEMALE</td>\n",
       "      <td>5858</td>\n",
       "    </tr>\n",
       "    <tr>\n",
       "      <th>1</th>\n",
       "      <td>MALE</td>\n",
       "      <td>6029</td>\n",
       "    </tr>\n",
       "  </tbody>\n",
       "</table>\n",
       "</div>"
      ],
      "text/plain": [
       "   gender  distinct_count\n",
       "0  FEMALE            5858\n",
       "1    MALE            6029"
      ]
     },
     "execution_count": 27,
     "metadata": {},
     "output_type": "execute_result"
    }
   ],
   "source": [
    "Gender_Distribution = \"\"\"\n",
    "    SELECT gender, COUNT(DISTINCT customerkey) AS distinct_count\n",
    "    FROM dataspark_global_electronics.merged_df\n",
    "    GROUP BY gender;\n",
    "\"\"\"\n",
    "df = pd.read_sql(Gender_Distribution,myconnection)\n",
    "df"
   ]
  },
  {
   "cell_type": "code",
   "execution_count": 42,
   "id": "0a18aa94-cc95-4a19-b3df-e6724903a2a2",
   "metadata": {},
   "outputs": [
    {
     "name": "stderr",
     "output_type": "stream",
     "text": [
      "C:\\Users\\rakes\\AppData\\Local\\Temp\\ipykernel_28648\\4011642493.py:12: UserWarning: pandas only supports SQLAlchemy connectable (engine/connection) or database string URI or sqlite3 DBAPI2 connection. Other DBAPI2 objects are not tested. Please consider using SQLAlchemy.\n",
      "  df = pd.read_sql(Age_Distribution,myconnection)\n"
     ]
    },
    {
     "data": {
      "text/html": [
       "<div>\n",
       "<style scoped>\n",
       "    .dataframe tbody tr th:only-of-type {\n",
       "        vertical-align: middle;\n",
       "    }\n",
       "\n",
       "    .dataframe tbody tr th {\n",
       "        vertical-align: top;\n",
       "    }\n",
       "\n",
       "    .dataframe thead th {\n",
       "        text-align: right;\n",
       "    }\n",
       "</style>\n",
       "<table border=\"1\" class=\"dataframe\">\n",
       "  <thead>\n",
       "    <tr style=\"text-align: right;\">\n",
       "      <th></th>\n",
       "      <th>age</th>\n",
       "      <th>age_count</th>\n",
       "    </tr>\n",
       "  </thead>\n",
       "  <tbody>\n",
       "    <tr>\n",
       "      <th>0</th>\n",
       "      <td>22</td>\n",
       "      <td>47</td>\n",
       "    </tr>\n",
       "    <tr>\n",
       "      <th>1</th>\n",
       "      <td>23</td>\n",
       "      <td>208</td>\n",
       "    </tr>\n",
       "    <tr>\n",
       "      <th>2</th>\n",
       "      <td>24</td>\n",
       "      <td>200</td>\n",
       "    </tr>\n",
       "    <tr>\n",
       "      <th>3</th>\n",
       "      <td>25</td>\n",
       "      <td>175</td>\n",
       "    </tr>\n",
       "    <tr>\n",
       "      <th>4</th>\n",
       "      <td>26</td>\n",
       "      <td>177</td>\n",
       "    </tr>\n",
       "    <tr>\n",
       "      <th>...</th>\n",
       "      <td>...</td>\n",
       "      <td>...</td>\n",
       "    </tr>\n",
       "    <tr>\n",
       "      <th>63</th>\n",
       "      <td>85</td>\n",
       "      <td>156</td>\n",
       "    </tr>\n",
       "    <tr>\n",
       "      <th>64</th>\n",
       "      <td>86</td>\n",
       "      <td>170</td>\n",
       "    </tr>\n",
       "    <tr>\n",
       "      <th>65</th>\n",
       "      <td>87</td>\n",
       "      <td>203</td>\n",
       "    </tr>\n",
       "    <tr>\n",
       "      <th>66</th>\n",
       "      <td>88</td>\n",
       "      <td>160</td>\n",
       "    </tr>\n",
       "    <tr>\n",
       "      <th>67</th>\n",
       "      <td>89</td>\n",
       "      <td>122</td>\n",
       "    </tr>\n",
       "  </tbody>\n",
       "</table>\n",
       "<p>68 rows × 2 columns</p>\n",
       "</div>"
      ],
      "text/plain": [
       "    age  age_count\n",
       "0    22         47\n",
       "1    23        208\n",
       "2    24        200\n",
       "3    25        175\n",
       "4    26        177\n",
       "..  ...        ...\n",
       "63   85        156\n",
       "64   86        170\n",
       "65   87        203\n",
       "66   88        160\n",
       "67   89        122\n",
       "\n",
       "[68 rows x 2 columns]"
      ]
     },
     "execution_count": 42,
     "metadata": {},
     "output_type": "execute_result"
    }
   ],
   "source": [
    "Age_Distribution = \"\"\"\n",
    "    SELECT \n",
    "        age, \n",
    "        COUNT(DISTINCT customerkey) AS age_count\n",
    "    FROM \n",
    "        dataspark_global_electronics.merged_df\n",
    "    GROUP BY \n",
    "        age\n",
    "    ORDER BY \n",
    "        age;\n",
    "\"\"\"\n",
    "df = pd.read_sql(Age_Distribution,myconnection)\n",
    "df"
   ]
  },
  {
   "cell_type": "code",
   "execution_count": 29,
   "id": "4f1d1554-c6b5-4a5e-923d-cdd1c01f1442",
   "metadata": {},
   "outputs": [
    {
     "name": "stderr",
     "output_type": "stream",
     "text": [
      "C:\\Users\\rakes\\AppData\\Local\\Temp\\ipykernel_28648\\2649614041.py:6: UserWarning: pandas only supports SQLAlchemy connectable (engine/connection) or database string URI or sqlite3 DBAPI2 connection. Other DBAPI2 objects are not tested. Please consider using SQLAlchemy.\n",
      "  df = pd.read_sql(Location_Distribution,myconnection)\n"
     ]
    },
    {
     "data": {
      "text/html": [
       "<div>\n",
       "<style scoped>\n",
       "    .dataframe tbody tr th:only-of-type {\n",
       "        vertical-align: middle;\n",
       "    }\n",
       "\n",
       "    .dataframe tbody tr th {\n",
       "        vertical-align: top;\n",
       "    }\n",
       "\n",
       "    .dataframe thead th {\n",
       "        text-align: right;\n",
       "    }\n",
       "</style>\n",
       "<table border=\"1\" class=\"dataframe\">\n",
       "  <thead>\n",
       "    <tr style=\"text-align: right;\">\n",
       "      <th></th>\n",
       "      <th>country</th>\n",
       "      <th>count</th>\n",
       "    </tr>\n",
       "  </thead>\n",
       "  <tbody>\n",
       "    <tr>\n",
       "      <th>0</th>\n",
       "      <td>UNITED STATES</td>\n",
       "      <td>5706</td>\n",
       "    </tr>\n",
       "    <tr>\n",
       "      <th>1</th>\n",
       "      <td>UNITED KINGDOM</td>\n",
       "      <td>1570</td>\n",
       "    </tr>\n",
       "    <tr>\n",
       "      <th>2</th>\n",
       "      <td>CANADA</td>\n",
       "      <td>1179</td>\n",
       "    </tr>\n",
       "  </tbody>\n",
       "</table>\n",
       "</div>"
      ],
      "text/plain": [
       "          country  count\n",
       "0   UNITED STATES   5706\n",
       "1  UNITED KINGDOM   1570\n",
       "2          CANADA   1179"
      ]
     },
     "execution_count": 29,
     "metadata": {},
     "output_type": "execute_result"
    }
   ],
   "source": [
    "Location_Distribution = \"\"\"SELECT country, COUNT(DISTINCT customerkey) AS count\n",
    "FROM dataspark_global_electronics.merged_df\n",
    "GROUP BY country\n",
    "ORDER BY count DESC;\n",
    "\"\"\"\n",
    "df = pd.read_sql(Location_Distribution,myconnection)\n",
    "df.head(3)"
   ]
  },
  {
   "cell_type": "code",
   "execution_count": 30,
   "id": "1544fc0a-e508-409c-b489-af96860cf564",
   "metadata": {},
   "outputs": [
    {
     "name": "stderr",
     "output_type": "stream",
     "text": [
      "C:\\Users\\rakes\\AppData\\Local\\Temp\\ipykernel_28648\\3442366239.py:13: UserWarning: pandas only supports SQLAlchemy connectable (engine/connection) or database string URI or sqlite3 DBAPI2 connection. Other DBAPI2 objects are not tested. Please consider using SQLAlchemy.\n",
      "  df = pd.read_sql(Preferred_Products,myconnection)\n"
     ]
    },
    {
     "data": {
      "text/html": [
       "<div>\n",
       "<style scoped>\n",
       "    .dataframe tbody tr th:only-of-type {\n",
       "        vertical-align: middle;\n",
       "    }\n",
       "\n",
       "    .dataframe tbody tr th {\n",
       "        vertical-align: top;\n",
       "    }\n",
       "\n",
       "    .dataframe thead th {\n",
       "        text-align: right;\n",
       "    }\n",
       "</style>\n",
       "<table border=\"1\" class=\"dataframe\">\n",
       "  <thead>\n",
       "    <tr style=\"text-align: right;\">\n",
       "      <th></th>\n",
       "      <th>product_name</th>\n",
       "      <th>purchase_count</th>\n",
       "    </tr>\n",
       "  </thead>\n",
       "  <tbody>\n",
       "    <tr>\n",
       "      <th>0</th>\n",
       "      <td>ADVENTURE WORKS DESKTOP PC2.30 MD230 BLACK</td>\n",
       "      <td>162</td>\n",
       "    </tr>\n",
       "    <tr>\n",
       "      <th>1</th>\n",
       "      <td>ADVENTURE WORKS DESKTOP PC2.30 MD230 WHITE</td>\n",
       "      <td>158</td>\n",
       "    </tr>\n",
       "    <tr>\n",
       "      <th>2</th>\n",
       "      <td>WWI DESKTOP PC1.60 E1600 BLACK</td>\n",
       "      <td>158</td>\n",
       "    </tr>\n",
       "  </tbody>\n",
       "</table>\n",
       "</div>"
      ],
      "text/plain": [
       "                                 product_name  purchase_count\n",
       "0  ADVENTURE WORKS DESKTOP PC2.30 MD230 BLACK             162\n",
       "1  ADVENTURE WORKS DESKTOP PC2.30 MD230 WHITE             158\n",
       "2              WWI DESKTOP PC1.60 E1600 BLACK             158"
      ]
     },
     "execution_count": 30,
     "metadata": {},
     "output_type": "execute_result"
    }
   ],
   "source": [
    "Preferred_Products = \"\"\"\n",
    "    SELECT \n",
    "        product_name, \n",
    "        COUNT(*) AS purchase_count\n",
    "    FROM \n",
    "        dataspark_global_electronics.merged_df\n",
    "    GROUP BY \n",
    "        product_name\n",
    "    ORDER BY \n",
    "        purchase_count DESC\n",
    "    LIMIT 3;  -- Limit to top 3 results directly in SQL for efficiency\n",
    "\"\"\"\n",
    "df = pd.read_sql(Preferred_Products,myconnection)\n",
    "df.head(3)"
   ]
  },
  {
   "cell_type": "code",
   "execution_count": 31,
   "id": "1b792d65-99e9-4aa3-a91b-f59aaaa8d1ea",
   "metadata": {},
   "outputs": [
    {
     "name": "stderr",
     "output_type": "stream",
     "text": [
      "C:\\Users\\rakes\\AppData\\Local\\Temp\\ipykernel_28648\\3231669511.py:16: UserWarning: pandas only supports SQLAlchemy connectable (engine/connection) or database string URI or sqlite3 DBAPI2 connection. Other DBAPI2 objects are not tested. Please consider using SQLAlchemy.\n",
      "  df = pd.read_sql(age_Segmentation,myconnection)\n"
     ]
    },
    {
     "data": {
      "text/html": [
       "<div>\n",
       "<style scoped>\n",
       "    .dataframe tbody tr th:only-of-type {\n",
       "        vertical-align: middle;\n",
       "    }\n",
       "\n",
       "    .dataframe tbody tr th {\n",
       "        vertical-align: top;\n",
       "    }\n",
       "\n",
       "    .dataframe thead th {\n",
       "        text-align: right;\n",
       "    }\n",
       "</style>\n",
       "<table border=\"1\" class=\"dataframe\">\n",
       "  <thead>\n",
       "    <tr style=\"text-align: right;\">\n",
       "      <th></th>\n",
       "      <th>age_group</th>\n",
       "      <th>count</th>\n",
       "    </tr>\n",
       "  </thead>\n",
       "  <tbody>\n",
       "    <tr>\n",
       "      <th>0</th>\n",
       "      <td>55+</td>\n",
       "      <td>5957</td>\n",
       "    </tr>\n",
       "    <tr>\n",
       "      <th>1</th>\n",
       "      <td>36-45</td>\n",
       "      <td>1800</td>\n",
       "    </tr>\n",
       "    <tr>\n",
       "      <th>2</th>\n",
       "      <td>26-35</td>\n",
       "      <td>1754</td>\n",
       "    </tr>\n",
       "  </tbody>\n",
       "</table>\n",
       "</div>"
      ],
      "text/plain": [
       "  age_group  count\n",
       "0       55+   5957\n",
       "1     36-45   1800\n",
       "2     26-35   1754"
      ]
     },
     "execution_count": 31,
     "metadata": {},
     "output_type": "execute_result"
    }
   ],
   "source": [
    "age_Segmentation = \"\"\"\n",
    "SELECT \n",
    "    CASE\n",
    "        WHEN age BETWEEN 18 AND 25 THEN '18-25'\n",
    "        WHEN age BETWEEN 26 AND 35 THEN '26-35'\n",
    "        WHEN age BETWEEN 36 AND 45 THEN '36-45'\n",
    "        WHEN age BETWEEN 46 AND 55 THEN '46-55'\n",
    "        WHEN age > 55 THEN '55+'\n",
    "        ELSE 'Unknown' -- Optional: Handle cases where age might be NULL or not fit the specified ranges\n",
    "    END AS age_group,\n",
    "    COUNT(DISTINCT customerkey) AS count\n",
    "FROM dataspark_global_electronics.merged_df\n",
    "GROUP BY age_group\n",
    "ORDER BY count DESC;\n",
    "\"\"\"\n",
    "df = pd.read_sql(age_Segmentation,myconnection)\n",
    "df.head(3)"
   ]
  },
  {
   "cell_type": "code",
   "execution_count": 32,
   "id": "5fc48889-50a7-432f-a3f3-a46f90974100",
   "metadata": {},
   "outputs": [
    {
     "name": "stderr",
     "output_type": "stream",
     "text": [
      "C:\\Users\\rakes\\AppData\\Local\\Temp\\ipykernel_28648\\1403107962.py:7: UserWarning: pandas only supports SQLAlchemy connectable (engine/connection) or database string URI or sqlite3 DBAPI2 connection. Other DBAPI2 objects are not tested. Please consider using SQLAlchemy.\n",
      "  df = pd.read_sql(Frequency_of_Purchases,myconnection)\n"
     ]
    },
    {
     "data": {
      "text/html": [
       "<div>\n",
       "<style scoped>\n",
       "    .dataframe tbody tr th:only-of-type {\n",
       "        vertical-align: middle;\n",
       "    }\n",
       "\n",
       "    .dataframe tbody tr th {\n",
       "        vertical-align: top;\n",
       "    }\n",
       "\n",
       "    .dataframe thead th {\n",
       "        text-align: right;\n",
       "    }\n",
       "</style>\n",
       "<table border=\"1\" class=\"dataframe\">\n",
       "  <thead>\n",
       "    <tr style=\"text-align: right;\">\n",
       "      <th></th>\n",
       "      <th>customerkey</th>\n",
       "      <th>purchase_frequency</th>\n",
       "    </tr>\n",
       "  </thead>\n",
       "  <tbody>\n",
       "    <tr>\n",
       "      <th>0</th>\n",
       "      <td>723572</td>\n",
       "      <td>36</td>\n",
       "    </tr>\n",
       "    <tr>\n",
       "      <th>1</th>\n",
       "      <td>1925694</td>\n",
       "      <td>32</td>\n",
       "    </tr>\n",
       "    <tr>\n",
       "      <th>2</th>\n",
       "      <td>1579183</td>\n",
       "      <td>32</td>\n",
       "    </tr>\n",
       "  </tbody>\n",
       "</table>\n",
       "</div>"
      ],
      "text/plain": [
       "   customerkey  purchase_frequency\n",
       "0       723572                  36\n",
       "1      1925694                  32\n",
       "2      1579183                  32"
      ]
     },
     "execution_count": 32,
     "metadata": {},
     "output_type": "execute_result"
    }
   ],
   "source": [
    "Frequency_of_Purchases = \"\"\"\n",
    "SELECT customerkey, COUNT(order_number) AS purchase_frequency\n",
    "FROM dataspark_global_electronics.merged_df\n",
    "GROUP BY customerkey\n",
    "ORDER BY purchase_frequency DESC;\n",
    "\"\"\"\n",
    "df = pd.read_sql(Frequency_of_Purchases,myconnection)\n",
    "df.head(3)"
   ]
  },
  {
   "cell_type": "code",
   "execution_count": 33,
   "id": "7cd5092e-0d72-497c-9768-40cad3dddb8f",
   "metadata": {},
   "outputs": [
    {
     "name": "stderr",
     "output_type": "stream",
     "text": [
      "C:\\Users\\rakes\\AppData\\Local\\Temp\\ipykernel_28648\\1795721160.py:6: UserWarning: pandas only supports SQLAlchemy connectable (engine/connection) or database string URI or sqlite3 DBAPI2 connection. Other DBAPI2 objects are not tested. Please consider using SQLAlchemy.\n",
      "  df = pd.read_sql(Total_Sales,myconnection)\n"
     ]
    },
    {
     "data": {
      "text/html": [
       "<div>\n",
       "<style scoped>\n",
       "    .dataframe tbody tr th:only-of-type {\n",
       "        vertical-align: middle;\n",
       "    }\n",
       "\n",
       "    .dataframe tbody tr th {\n",
       "        vertical-align: top;\n",
       "    }\n",
       "\n",
       "    .dataframe thead th {\n",
       "        text-align: right;\n",
       "    }\n",
       "</style>\n",
       "<table border=\"1\" class=\"dataframe\">\n",
       "  <thead>\n",
       "    <tr style=\"text-align: right;\">\n",
       "      <th></th>\n",
       "      <th>month</th>\n",
       "      <th>total_sales</th>\n",
       "    </tr>\n",
       "  </thead>\n",
       "  <tbody>\n",
       "    <tr>\n",
       "      <th>0</th>\n",
       "      <td>2016-01</td>\n",
       "      <td>201820.149564</td>\n",
       "    </tr>\n",
       "    <tr>\n",
       "      <th>1</th>\n",
       "      <td>2016-02</td>\n",
       "      <td>262513.239565</td>\n",
       "    </tr>\n",
       "    <tr>\n",
       "      <th>2</th>\n",
       "      <td>2016-03</td>\n",
       "      <td>100640.149788</td>\n",
       "    </tr>\n",
       "  </tbody>\n",
       "</table>\n",
       "</div>"
      ],
      "text/plain": [
       "     month    total_sales\n",
       "0  2016-01  201820.149564\n",
       "1  2016-02  262513.239565\n",
       "2  2016-03  100640.149788"
      ]
     },
     "execution_count": 33,
     "metadata": {},
     "output_type": "execute_result"
    }
   ],
   "source": [
    "Total_Sales = \"\"\"SELECT DATE_FORMAT(order_date, '%Y-%m') AS month, SUM(unit_price_usd) AS total_sales\n",
    "FROM dataspark_global_electronics.merged_df\n",
    "GROUP BY month\n",
    "ORDER BY month;\n",
    "\"\"\"\n",
    "df = pd.read_sql(Total_Sales,myconnection)\n",
    "df.head(3)"
   ]
  },
  {
   "cell_type": "code",
   "execution_count": 34,
   "id": "826457ec-4ee7-4be8-ab53-e50c91d50a75",
   "metadata": {},
   "outputs": [
    {
     "name": "stderr",
     "output_type": "stream",
     "text": [
      "C:\\Users\\rakes\\AppData\\Local\\Temp\\ipykernel_28648\\3696275472.py:7: UserWarning: pandas only supports SQLAlchemy connectable (engine/connection) or database string URI or sqlite3 DBAPI2 connection. Other DBAPI2 objects are not tested. Please consider using SQLAlchemy.\n",
      "  df = pd.read_sql(Top_Performing_Products_Quantity,myconnection)\n"
     ]
    },
    {
     "data": {
      "text/html": [
       "<div>\n",
       "<style scoped>\n",
       "    .dataframe tbody tr th:only-of-type {\n",
       "        vertical-align: middle;\n",
       "    }\n",
       "\n",
       "    .dataframe tbody tr th {\n",
       "        vertical-align: top;\n",
       "    }\n",
       "\n",
       "    .dataframe thead th {\n",
       "        text-align: right;\n",
       "    }\n",
       "</style>\n",
       "<table border=\"1\" class=\"dataframe\">\n",
       "  <thead>\n",
       "    <tr style=\"text-align: right;\">\n",
       "      <th></th>\n",
       "      <th>product_name</th>\n",
       "      <th>total_quantity_sold</th>\n",
       "      <th>total_price</th>\n",
       "    </tr>\n",
       "  </thead>\n",
       "  <tbody>\n",
       "    <tr>\n",
       "      <th>0</th>\n",
       "      <td>WWI DESKTOP PC2.33 X2330 BLACK</td>\n",
       "      <td>550.0</td>\n",
       "      <td>141526.000000</td>\n",
       "    </tr>\n",
       "    <tr>\n",
       "      <th>1</th>\n",
       "      <td>WWI DESKTOP PC1.80 E1800 WHITE</td>\n",
       "      <td>538.0</td>\n",
       "      <td>36324.199036</td>\n",
       "    </tr>\n",
       "    <tr>\n",
       "      <th>2</th>\n",
       "      <td>ADVENTURE WORKS DESKTOP PC1.60 ED160 BLACK</td>\n",
       "      <td>521.0</td>\n",
       "      <td>41842.251892</td>\n",
       "    </tr>\n",
       "  </tbody>\n",
       "</table>\n",
       "</div>"
      ],
      "text/plain": [
       "                                 product_name  total_quantity_sold  \\\n",
       "0              WWI DESKTOP PC2.33 X2330 BLACK                550.0   \n",
       "1              WWI DESKTOP PC1.80 E1800 WHITE                538.0   \n",
       "2  ADVENTURE WORKS DESKTOP PC1.60 ED160 BLACK                521.0   \n",
       "\n",
       "     total_price  \n",
       "0  141526.000000  \n",
       "1   36324.199036  \n",
       "2   41842.251892  "
      ]
     },
     "execution_count": 34,
     "metadata": {},
     "output_type": "execute_result"
    }
   ],
   "source": [
    "Top_Performing_Products_Quantity = \"\"\"SELECT product_name, SUM(quantity) AS total_quantity_sold, SUM(unit_price_usd) AS total_price\n",
    "FROM dataspark_global_electronics.merged_df\n",
    "GROUP BY product_name\n",
    "ORDER BY total_quantity_sold DESC\n",
    "LIMIT 10;\n",
    "\"\"\"\n",
    "df = pd.read_sql(Top_Performing_Products_Quantity,myconnection)\n",
    "df.head(3)"
   ]
  },
  {
   "cell_type": "code",
   "execution_count": 35,
   "id": "539d0064-d88d-486d-a0da-9d6d8f968a1f",
   "metadata": {},
   "outputs": [
    {
     "name": "stderr",
     "output_type": "stream",
     "text": [
      "C:\\Users\\rakes\\AppData\\Local\\Temp\\ipykernel_28648\\739355655.py:12: UserWarning: pandas only supports SQLAlchemy connectable (engine/connection) or database string URI or sqlite3 DBAPI2 connection. Other DBAPI2 objects are not tested. Please consider using SQLAlchemy.\n",
      "  df = pd.read_sql(Top_Performing_Products_Revenue,myconnection)\n"
     ]
    },
    {
     "data": {
      "text/html": [
       "<div>\n",
       "<style scoped>\n",
       "    .dataframe tbody tr th:only-of-type {\n",
       "        vertical-align: middle;\n",
       "    }\n",
       "\n",
       "    .dataframe tbody tr th {\n",
       "        vertical-align: top;\n",
       "    }\n",
       "\n",
       "    .dataframe thead th {\n",
       "        text-align: right;\n",
       "    }\n",
       "</style>\n",
       "<table border=\"1\" class=\"dataframe\">\n",
       "  <thead>\n",
       "    <tr style=\"text-align: right;\">\n",
       "      <th></th>\n",
       "      <th>product_name</th>\n",
       "      <th>total_revenue</th>\n",
       "    </tr>\n",
       "  </thead>\n",
       "  <tbody>\n",
       "    <tr>\n",
       "      <th>0</th>\n",
       "      <td>ADVENTURE WORKS DESKTOP PC2.33 XD233 BLACK</td>\n",
       "      <td>146319.0</td>\n",
       "    </tr>\n",
       "    <tr>\n",
       "      <th>1</th>\n",
       "      <td>WWI DESKTOP PC2.33 X2330 BLACK</td>\n",
       "      <td>141526.0</td>\n",
       "    </tr>\n",
       "    <tr>\n",
       "      <th>2</th>\n",
       "      <td>ADVENTURE WORKS DESKTOP PC2.33 XD233 SILVER</td>\n",
       "      <td>141474.0</td>\n",
       "    </tr>\n",
       "  </tbody>\n",
       "</table>\n",
       "</div>"
      ],
      "text/plain": [
       "                                  product_name  total_revenue\n",
       "0   ADVENTURE WORKS DESKTOP PC2.33 XD233 BLACK       146319.0\n",
       "1               WWI DESKTOP PC2.33 X2330 BLACK       141526.0\n",
       "2  ADVENTURE WORKS DESKTOP PC2.33 XD233 SILVER       141474.0"
      ]
     },
     "execution_count": 35,
     "metadata": {},
     "output_type": "execute_result"
    }
   ],
   "source": [
    "Top_Performing_Products_Revenue = \"\"\"\n",
    "    WITH RevenueSummary AS (\n",
    "        SELECT product_name, SUM(unit_price_usd) AS total_revenue\n",
    "        FROM dataspark_global_electronics.merged_df\n",
    "        GROUP BY product_name\n",
    "    )\n",
    "    SELECT product_name, total_revenue\n",
    "    FROM RevenueSummary\n",
    "    ORDER BY total_revenue DESC\n",
    "    LIMIT 10;\n",
    "    \"\"\"\n",
    "df = pd.read_sql(Top_Performing_Products_Revenue,myconnection)\n",
    "df.head(3)"
   ]
  },
  {
   "cell_type": "code",
   "execution_count": 36,
   "id": "c23413a8-7126-4fe8-8fe1-331ea288f49d",
   "metadata": {},
   "outputs": [
    {
     "name": "stdout",
     "output_type": "stream",
     "text": [
      "   avg_order_value\n",
      "0       280.569848\n"
     ]
    },
    {
     "name": "stderr",
     "output_type": "stream",
     "text": [
      "C:\\Users\\rakes\\AppData\\Local\\Temp\\ipykernel_28648\\402551151.py:2: UserWarning: pandas only supports SQLAlchemy connectable (engine/connection) or database string URI or sqlite3 DBAPI2 connection. Other DBAPI2 objects are not tested. Please consider using SQLAlchemy.\n",
      "  df_avg_order_value = pd.read_sql(Average_Order_Value, myconnection)\n"
     ]
    }
   ],
   "source": [
    "Average_Order_Value = \"\"\"SELECT AVG(unit_price_usd) AS avg_order_value FROM dataspark_global_electronics.merged_df;\"\"\"\n",
    "df_avg_order_value = pd.read_sql(Average_Order_Value, myconnection)\n",
    "print(df_avg_order_value)"
   ]
  },
  {
   "cell_type": "code",
   "execution_count": 37,
   "id": "1c1772c4-b0d9-410c-8982-6fee083e7cf4",
   "metadata": {},
   "outputs": [
    {
     "name": "stderr",
     "output_type": "stream",
     "text": [
      "C:\\Users\\rakes\\AppData\\Local\\Temp\\ipykernel_28648\\150342600.py:7: UserWarning: pandas only supports SQLAlchemy connectable (engine/connection) or database string URI or sqlite3 DBAPI2 connection. Other DBAPI2 objects are not tested. Please consider using SQLAlchemy.\n",
      "  df = pd.read_sql(Profit_Margins_for_Products,myconnection)\n"
     ]
    },
    {
     "data": {
      "text/html": [
       "<div>\n",
       "<style scoped>\n",
       "    .dataframe tbody tr th:only-of-type {\n",
       "        vertical-align: middle;\n",
       "    }\n",
       "\n",
       "    .dataframe tbody tr th {\n",
       "        vertical-align: top;\n",
       "    }\n",
       "\n",
       "    .dataframe thead th {\n",
       "        text-align: right;\n",
       "    }\n",
       "</style>\n",
       "<table border=\"1\" class=\"dataframe\">\n",
       "  <thead>\n",
       "    <tr style=\"text-align: right;\">\n",
       "      <th></th>\n",
       "      <th>product_name</th>\n",
       "      <th>profit_margin</th>\n",
       "    </tr>\n",
       "  </thead>\n",
       "  <tbody>\n",
       "    <tr>\n",
       "      <th>0</th>\n",
       "      <td>FABRIKAM REFRIGERATOR 24.7CUFT X9800 GREEN</td>\n",
       "      <td>2139.77002</td>\n",
       "    </tr>\n",
       "    <tr>\n",
       "      <th>1</th>\n",
       "      <td>LITWARE REFRIGERATOR 24.7CUFT X980 GREY</td>\n",
       "      <td>2139.77002</td>\n",
       "    </tr>\n",
       "    <tr>\n",
       "      <th>2</th>\n",
       "      <td>FABRIKAM REFRIGERATOR 24.7CUFT X9800 GREY</td>\n",
       "      <td>2139.77002</td>\n",
       "    </tr>\n",
       "  </tbody>\n",
       "</table>\n",
       "</div>"
      ],
      "text/plain": [
       "                                 product_name  profit_margin\n",
       "0  FABRIKAM REFRIGERATOR 24.7CUFT X9800 GREEN     2139.77002\n",
       "1     LITWARE REFRIGERATOR 24.7CUFT X980 GREY     2139.77002\n",
       "2   FABRIKAM REFRIGERATOR 24.7CUFT X9800 GREY     2139.77002"
      ]
     },
     "execution_count": 37,
     "metadata": {},
     "output_type": "execute_result"
    }
   ],
   "source": [
    "Profit_Margins_for_Products = \"\"\"SELECT product_name, (unit_price_usd - unit_cost_usd) AS profit_margin\n",
    "FROM dataspark_global_electronics.merged_df\n",
    "ORDER BY profit_margin DESC\n",
    "LIMIT 10;\n",
    "\n",
    "\"\"\"\n",
    "df = pd.read_sql(Profit_Margins_for_Products,myconnection)\n",
    "df.head(3)"
   ]
  },
  {
   "cell_type": "code",
   "execution_count": 38,
   "id": "c880c363-8464-4444-af2a-b4d9bc0cb669",
   "metadata": {},
   "outputs": [
    {
     "name": "stderr",
     "output_type": "stream",
     "text": [
      "C:\\Users\\rakes\\AppData\\Local\\Temp\\ipykernel_28648\\4144723826.py:8: UserWarning: pandas only supports SQLAlchemy connectable (engine/connection) or database string URI or sqlite3 DBAPI2 connection. Other DBAPI2 objects are not tested. Please consider using SQLAlchemy.\n",
      "  df = pd.read_sql(Sales_by_Store,myconnection)\n"
     ]
    },
    {
     "data": {
      "text/html": [
       "<div>\n",
       "<style scoped>\n",
       "    .dataframe tbody tr th:only-of-type {\n",
       "        vertical-align: middle;\n",
       "    }\n",
       "\n",
       "    .dataframe tbody tr th {\n",
       "        vertical-align: top;\n",
       "    }\n",
       "\n",
       "    .dataframe thead th {\n",
       "        text-align: right;\n",
       "    }\n",
       "</style>\n",
       "<table border=\"1\" class=\"dataframe\">\n",
       "  <thead>\n",
       "    <tr style=\"text-align: right;\">\n",
       "      <th></th>\n",
       "      <th>storekey</th>\n",
       "      <th>total_sales_price</th>\n",
       "      <th>total_orders</th>\n",
       "    </tr>\n",
       "  </thead>\n",
       "  <tbody>\n",
       "    <tr>\n",
       "      <th>0</th>\n",
       "      <td>0</td>\n",
       "      <td>3.626168e+06</td>\n",
       "      <td>13165</td>\n",
       "    </tr>\n",
       "    <tr>\n",
       "      <th>1</th>\n",
       "      <td>54</td>\n",
       "      <td>4.438459e+05</td>\n",
       "      <td>1498</td>\n",
       "    </tr>\n",
       "    <tr>\n",
       "      <th>2</th>\n",
       "      <td>55</td>\n",
       "      <td>4.381089e+05</td>\n",
       "      <td>1518</td>\n",
       "    </tr>\n",
       "  </tbody>\n",
       "</table>\n",
       "</div>"
      ],
      "text/plain": [
       "   storekey  total_sales_price  total_orders\n",
       "0         0       3.626168e+06         13165\n",
       "1        54       4.438459e+05          1498\n",
       "2        55       4.381089e+05          1518"
      ]
     },
     "execution_count": 38,
     "metadata": {},
     "output_type": "execute_result"
    }
   ],
   "source": [
    "Sales_by_Store = \"\"\"SELECT storekey, \n",
    "       SUM(unit_price_usd) AS total_sales_price,\n",
    "       COUNT(order_number) AS total_orders\n",
    "FROM dataspark_global_electronics.merged_df\n",
    "GROUP BY storekey\n",
    "ORDER BY total_sales_price DESC;\n",
    "\"\"\"\n",
    "df = pd.read_sql(Sales_by_Store,myconnection)\n",
    "df.head(3)\n"
   ]
  },
  {
   "cell_type": "code",
   "execution_count": 39,
   "id": "d191233e-2535-489e-beb2-5f61fd1ffe3d",
   "metadata": {},
   "outputs": [
    {
     "name": "stderr",
     "output_type": "stream",
     "text": [
      "C:\\Users\\rakes\\AppData\\Local\\Temp\\ipykernel_28648\\3490705474.py:8: UserWarning: pandas only supports SQLAlchemy connectable (engine/connection) or database string URI or sqlite3 DBAPI2 connection. Other DBAPI2 objects are not tested. Please consider using SQLAlchemy.\n",
      "  df = pd.read_sql(Category_Analysis,myconnection)\n"
     ]
    },
    {
     "data": {
      "text/html": [
       "<div>\n",
       "<style scoped>\n",
       "    .dataframe tbody tr th:only-of-type {\n",
       "        vertical-align: middle;\n",
       "    }\n",
       "\n",
       "    .dataframe tbody tr th {\n",
       "        vertical-align: top;\n",
       "    }\n",
       "\n",
       "    .dataframe thead th {\n",
       "        text-align: right;\n",
       "    }\n",
       "</style>\n",
       "<table border=\"1\" class=\"dataframe\">\n",
       "  <thead>\n",
       "    <tr style=\"text-align: right;\">\n",
       "      <th></th>\n",
       "      <th>category</th>\n",
       "      <th>total_quantity_sold</th>\n",
       "      <th>total_revenue</th>\n",
       "    </tr>\n",
       "  </thead>\n",
       "  <tbody>\n",
       "    <tr>\n",
       "      <th>0</th>\n",
       "      <td>COMPUTERS</td>\n",
       "      <td>44151.0</td>\n",
       "      <td>6.083930e+06</td>\n",
       "    </tr>\n",
       "    <tr>\n",
       "      <th>1</th>\n",
       "      <td>HOME APPLIANCES</td>\n",
       "      <td>18401.0</td>\n",
       "      <td>3.392752e+06</td>\n",
       "    </tr>\n",
       "    <tr>\n",
       "      <th>2</th>\n",
       "      <td>CAMERAS AND CAMCORDERS</td>\n",
       "      <td>17609.0</td>\n",
       "      <td>2.066737e+06</td>\n",
       "    </tr>\n",
       "  </tbody>\n",
       "</table>\n",
       "</div>"
      ],
      "text/plain": [
       "                 category  total_quantity_sold  total_revenue\n",
       "0               COMPUTERS              44151.0   6.083930e+06\n",
       "1         HOME APPLIANCES              18401.0   3.392752e+06\n",
       "2  CAMERAS AND CAMCORDERS              17609.0   2.066737e+06"
      ]
     },
     "execution_count": 39,
     "metadata": {},
     "output_type": "execute_result"
    }
   ],
   "source": [
    "Category_Analysis = \"\"\"SELECT category, \n",
    "       SUM(quantity) AS total_quantity_sold,\n",
    "       SUM(unit_price_usd) AS total_revenue\n",
    "FROM dataspark_global_electronics.merged_df\n",
    "GROUP BY category\n",
    "ORDER BY total_revenue DESC;\n",
    "\"\"\"\n",
    "df = pd.read_sql(Category_Analysis,myconnection)\n",
    "df.head(3)"
   ]
  },
  {
   "cell_type": "code",
   "execution_count": null,
   "id": "f35a7b59-0f4d-4562-9671-0fb05f53c21b",
   "metadata": {},
   "outputs": [],
   "source": []
  }
 ],
 "metadata": {
  "kernelspec": {
   "display_name": "Python 3 (ipykernel)",
   "language": "python",
   "name": "python3"
  },
  "language_info": {
   "codemirror_mode": {
    "name": "ipython",
    "version": 3
   },
   "file_extension": ".py",
   "mimetype": "text/x-python",
   "name": "python",
   "nbconvert_exporter": "python",
   "pygments_lexer": "ipython3",
   "version": "3.11.7"
  }
 },
 "nbformat": 4,
 "nbformat_minor": 5
}
